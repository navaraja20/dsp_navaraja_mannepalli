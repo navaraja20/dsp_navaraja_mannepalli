{
 "cells": [
  {
   "cell_type": "markdown",
   "id": "0a48f6ef-637b-4737-8a0a-16e6b2cef39a",
   "metadata": {},
   "source": [
    "## Model Building"
   ]
  },
  {
   "cell_type": "code",
   "execution_count": 19,
   "id": "20647988-b9f9-45b4-9d82-20ceebcae4ff",
   "metadata": {},
   "outputs": [
    {
     "name": "stdout",
     "output_type": "stream",
     "text": [
      "Current directory: E:\\dsp_navaraja_mannepalli\n",
      "Contents: ['.git', '.gitignore', '.ipynb_checkpoints', 'data', 'house_prices', 'models', 'notebooks', 'requirements.txt']\n"
     ]
    }
   ],
   "source": [
    "import os\n",
    "os.chdir('..')  # Move up to project root\n",
    "print(\"Current directory:\", os.getcwd())\n",
    "print(\"Contents:\", os.listdir())\n"
   ]
  },
  {
   "cell_type": "code",
   "execution_count": 21,
   "id": "607dd0e6-505b-4343-9d92-1f9650271fff",
   "metadata": {},
   "outputs": [
    {
     "name": "stdout",
     "output_type": "stream",
     "text": [
      "{'rmsle': np.float64(0.2068)}\n"
     ]
    }
   ],
   "source": [
    "import pandas as pd\n",
    "from house_prices.train import build_model\n",
    "\n",
    "training_df = pd.read_csv('E:/dsp_navaraja_mannepalli/data/train.csv')\n",
    "model_performance_dict = build_model(training_df)\n",
    "print(model_performance_dict)"
   ]
  },
  {
   "cell_type": "markdown",
   "id": "44fa3b4b-985e-4b8a-8e27-b49f14c79c94",
   "metadata": {},
   "source": [
    "## Model Inference"
   ]
  },
  {
   "cell_type": "code",
   "execution_count": 22,
   "id": "cd8fdbb7-4430-48df-9c4a-c8b6474475ec",
   "metadata": {},
   "outputs": [
    {
     "data": {
      "text/plain": [
       "array([ 88264.41248655, 150444.44970655, 195167.82402368, ...,\n",
       "       154777.70406753, 130722.18402166, 206036.98027394])"
      ]
     },
     "execution_count": 22,
     "metadata": {},
     "output_type": "execute_result"
    }
   ],
   "source": [
    "from house_prices.inference import make_predictions\n",
    "\n",
    "inference_df = pd.read_csv('E:/dsp_navaraja_mannepalli/data/test.csv')\n",
    "predictions = make_predictions(inference_df)\n",
    "predictions"
   ]
  },
  {
   "cell_type": "code",
   "execution_count": null,
   "id": "0de25c73-39e4-483a-8546-1a8346cf3d4e",
   "metadata": {},
   "outputs": [],
   "source": []
  }
 ],
 "metadata": {
  "kernelspec": {
   "display_name": "Python 3 (ipykernel)",
   "language": "python",
   "name": "python3"
  },
  "language_info": {
   "codemirror_mode": {
    "name": "ipython",
    "version": 3
   },
   "file_extension": ".py",
   "mimetype": "text/x-python",
   "name": "python",
   "nbconvert_exporter": "python",
   "pygments_lexer": "ipython3",
   "version": "3.9.21"
  }
 },
 "nbformat": 4,
 "nbformat_minor": 5
}

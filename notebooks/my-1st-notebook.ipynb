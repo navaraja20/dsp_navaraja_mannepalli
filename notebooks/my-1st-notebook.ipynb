{
 "cells": [
  {
   "cell_type": "code",
   "execution_count": 1,
   "id": "d01d5b7d-42bb-4b37-be53-d26252293453",
   "metadata": {},
   "outputs": [
    {
     "name": "stdout",
     "output_type": "stream",
     "text": [
      "Collecting numpy\n",
      "  Downloading numpy-2.0.2-cp39-cp39-win_amd64.whl.metadata (59 kB)\n",
      "Downloading numpy-2.0.2-cp39-cp39-win_amd64.whl (15.9 MB)\n",
      "   ---------------------------------------- 0.0/15.9 MB ? eta -:--:--\n",
      "    --------------------------------------- 0.3/15.9 MB ? eta -:--:--\n",
      "   - -------------------------------------- 0.5/15.9 MB 1.2 MB/s eta 0:00:13\n",
      "   - -------------------------------------- 0.5/15.9 MB 1.2 MB/s eta 0:00:13\n",
      "   -- ------------------------------------- 1.0/15.9 MB 1.3 MB/s eta 0:00:12\n",
      "   --- ------------------------------------ 1.3/15.9 MB 1.3 MB/s eta 0:00:11\n",
      "   ---- ----------------------------------- 1.8/15.9 MB 1.5 MB/s eta 0:00:10\n",
      "   ----- ---------------------------------- 2.1/15.9 MB 1.5 MB/s eta 0:00:09\n",
      "   ------ --------------------------------- 2.6/15.9 MB 1.6 MB/s eta 0:00:09\n",
      "   ------- -------------------------------- 3.1/15.9 MB 1.7 MB/s eta 0:00:08\n",
      "   -------- ------------------------------- 3.4/15.9 MB 1.7 MB/s eta 0:00:08\n",
      "   --------- ------------------------------ 3.9/15.9 MB 1.8 MB/s eta 0:00:07\n",
      "   ----------- ---------------------------- 4.5/15.9 MB 1.9 MB/s eta 0:00:07\n",
      "   ----------- ---------------------------- 4.7/15.9 MB 1.9 MB/s eta 0:00:07\n",
      "   ------------ --------------------------- 5.0/15.9 MB 1.8 MB/s eta 0:00:07\n",
      "   ------------- -------------------------- 5.2/15.9 MB 1.8 MB/s eta 0:00:07\n",
      "   ------------- -------------------------- 5.5/15.9 MB 1.8 MB/s eta 0:00:06\n",
      "   --------------- ------------------------ 6.3/15.9 MB 1.8 MB/s eta 0:00:06\n",
      "   ----------------- ---------------------- 7.1/15.9 MB 1.9 MB/s eta 0:00:05\n",
      "   ------------------- -------------------- 7.9/15.9 MB 2.0 MB/s eta 0:00:04\n",
      "   --------------------- ------------------ 8.4/15.9 MB 2.1 MB/s eta 0:00:04\n",
      "   ----------------------- ---------------- 9.4/15.9 MB 2.2 MB/s eta 0:00:03\n",
      "   -------------------------- ------------- 10.5/15.9 MB 2.3 MB/s eta 0:00:03\n",
      "   ---------------------------- ----------- 11.5/15.9 MB 2.5 MB/s eta 0:00:02\n",
      "   ------------------------------ --------- 12.3/15.9 MB 2.5 MB/s eta 0:00:02\n",
      "   --------------------------------- ------ 13.4/15.9 MB 2.6 MB/s eta 0:00:01\n",
      "   ----------------------------------- ---- 14.2/15.9 MB 2.7 MB/s eta 0:00:01\n",
      "   -------------------------------------- - 15.5/15.9 MB 2.8 MB/s eta 0:00:01\n",
      "   ---------------------------------------- 15.9/15.9 MB 2.8 MB/s eta 0:00:00\n",
      "Installing collected packages: numpy\n",
      "Successfully installed numpy-2.0.2\n",
      "Note: you may need to restart the kernel to use updated packages.\n"
     ]
    }
   ],
   "source": [
    "pip install numpy"
   ]
  },
  {
   "cell_type": "code",
   "execution_count": 2,
   "id": "bb897f16-7bd1-453c-9021-ca65467c7fc6",
   "metadata": {},
   "outputs": [
    {
     "data": {
      "text/plain": [
       "array([[10, 66, 11],\n",
       "       [90, 84, 34],\n",
       "       [64, 74, 12],\n",
       "       [85, 48, 19],\n",
       "       [ 5, 46, 88],\n",
       "       [92, 56, 72],\n",
       "       [88, 34, 32],\n",
       "       [82, 43, 66],\n",
       "       [46, 81,  6],\n",
       "       [29, 24, 67]], dtype=int32)"
      ]
     },
     "metadata": {},
     "output_type": "display_data"
    }
   ],
   "source": [
    "import numpy as np\n",
    "from IPython.display import display\n",
    "\n",
    "my_array = np.random.randint(0, 100, size=(10, 3))\n",
    "display(my_array)\n"
   ]
  },
  {
   "cell_type": "code",
   "execution_count": null,
   "id": "da391f55-534c-4d84-a00b-17c6da3f8b37",
   "metadata": {},
   "outputs": [],
   "source": []
  }
 ],
 "metadata": {
  "kernelspec": {
   "display_name": "Python 3 (ipykernel)",
   "language": "python",
   "name": "python3"
  },
  "language_info": {
   "codemirror_mode": {
    "name": "ipython",
    "version": 3
   },
   "file_extension": ".py",
   "mimetype": "text/x-python",
   "name": "python",
   "nbconvert_exporter": "python",
   "pygments_lexer": "ipython3",
   "version": "3.9.21"
  }
 },
 "nbformat": 4,
 "nbformat_minor": 5
}

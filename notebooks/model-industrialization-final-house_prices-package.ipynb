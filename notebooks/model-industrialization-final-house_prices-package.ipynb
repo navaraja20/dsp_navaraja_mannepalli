{
 "cells": [
  {
   "cell_type": "markdown",
   "id": "0a48f6ef-637b-4737-8a0a-16e6b2cef39a",
   "metadata": {},
   "source": [
    "## Model Building after creating house_prices package"
   ]
  },
  {
   "cell_type": "code",
   "execution_count": 10,
   "id": "20647988-b9f9-45b4-9d82-20ceebcae4ff",
   "metadata": {},
   "outputs": [
    {
     "name": "stdout",
     "output_type": "stream",
     "text": [
      "Current directory: E:\\\n",
      "Contents: ['$RECYCLE.BIN', '2024f-g2-ooa-uml', 'AIM_LABS.html', 'datavs', 'davinci', 'dbeaver', 'ddd', 'dsp_navaraja_mannepalli', 'Employee-performance-prediction', 'employees.csv', 'Engagement', 'GTAV', 'It Takes Two', 'ML modeling', 'model.png', 'models', 'mysql-9.1.0-winx64', 'navaraja.mannepalli-fund-java.zip', 'nosql', 'online_health_consultation_data.csv', 'PortfolioProjects-main.zip', 'Postregsql', 'pre wedng', 'project-architecture.png', 'PYTHON 1-100', 'System Volume Information', 'TEKKEN 7', 'Valo clips', 'VAT', 'weather-app', 'wthr-api']\n"
     ]
    }
   ],
   "source": [
    "import os\n",
    "os.chdir('..')\n",
    "print(\"Current directory:\", os.getcwd())\n",
    "print(\"Contents:\", os.listdir())\n"
   ]
  },
  {
   "cell_type": "code",
   "execution_count": 7,
   "id": "f341f1e0-3bb3-44b2-8239-3992891a3eaf",
   "metadata": {},
   "outputs": [],
   "source": [
    "import house_prices"
   ]
  },
  {
   "cell_type": "code",
   "execution_count": 8,
   "id": "607dd0e6-505b-4343-9d92-1f9650271fff",
   "metadata": {},
   "outputs": [
    {
     "name": "stdout",
     "output_type": "stream",
     "text": [
      "{'rmsle': np.float64(0.2068)}\n"
     ]
    }
   ],
   "source": [
    "import pandas as pd\n",
    "from house_prices import build_model\n",
    "\n",
    "training_df = pd.read_csv('E:/dsp_navaraja_mannepalli/data/train.csv')\n",
    "model_performance_dict = build_model(training_df)\n",
    "print(model_performance_dict)"
   ]
  },
  {
   "cell_type": "markdown",
   "id": "44fa3b4b-985e-4b8a-8e27-b49f14c79c94",
   "metadata": {},
   "source": [
    "## Model Inference after creating house_prices package"
   ]
  },
  {
   "cell_type": "code",
   "execution_count": 9,
   "id": "cd8fdbb7-4430-48df-9c4a-c8b6474475ec",
   "metadata": {},
   "outputs": [
    {
     "data": {
      "text/plain": [
       "array([ 88264.41248655, 150444.44970655, 195167.82402368, ...,\n",
       "       154777.70406753, 130722.18402166, 206036.98027394])"
      ]
     },
     "execution_count": 9,
     "metadata": {},
     "output_type": "execute_result"
    }
   ],
   "source": [
    "from house_prices import make_predictions\n",
    "\n",
    "inference_df = pd.read_csv('E:/dsp_navaraja_mannepalli/data/test.csv')\n",
    "predictions = make_predictions(inference_df)\n",
    "predictions"
   ]
  },
  {
   "cell_type": "code",
   "execution_count": null,
   "id": "31aeeee2-b705-4bac-ab8c-57252eb9fdbd",
   "metadata": {},
   "outputs": [],
   "source": []
  }
 ],
 "metadata": {
  "kernelspec": {
   "display_name": "Python 3 (ipykernel)",
   "language": "python",
   "name": "python3"
  },
  "language_info": {
   "codemirror_mode": {
    "name": "ipython",
    "version": 3
   },
   "file_extension": ".py",
   "mimetype": "text/x-python",
   "name": "python",
   "nbconvert_exporter": "python",
   "pygments_lexer": "ipython3",
   "version": "3.9.21"
  }
 },
 "nbformat": 4,
 "nbformat_minor": 5
}
